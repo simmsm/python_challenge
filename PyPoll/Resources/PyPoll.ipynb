{
 "cells": [
  {
   "cell_type": "code",
   "execution_count": 160,
   "id": "bd184025",
   "metadata": {},
   "outputs": [],
   "source": [
    "#import dependencies \n",
    "import pandas as pd "
   ]
  },
  {
   "cell_type": "code",
   "execution_count": 161,
   "id": "323fb324",
   "metadata": {},
   "outputs": [],
   "source": [
    "#store file path as variable and read as csv\n",
    "datafile= \"election_data.csv\"\n",
    "datafile=pd.read_csv(datafile)"
   ]
  },
  {
   "cell_type": "code",
   "execution_count": 162,
   "id": "77e15760",
   "metadata": {},
   "outputs": [],
   "source": [
    "#find the total number of votes cast\n",
    "total_votes=datafile.shape[0]"
   ]
  },
  {
   "cell_type": "code",
   "execution_count": 163,
   "id": "ad93c813",
   "metadata": {},
   "outputs": [],
   "source": [
    "#find the number of unique canidates, create list to store values \n",
    "candidate_list=[]\n",
    "candidate_list=datafile[\"Candidate\"].unique()\n"
   ]
  },
  {
   "cell_type": "code",
   "execution_count": 164,
   "id": "d52cc6ab",
   "metadata": {},
   "outputs": [],
   "source": [
    "# find number of votes cast for each candidate, create list to store values \n",
    "num_vote=[]\n",
    "num_vote=datafile[\"Candidate\"].value_counts()\n",
    "\n",
    "#convert into a dataframe \n",
    "num_vote_dataframe=pd.DataFrame(num_vote)"
   ]
  },
  {
   "cell_type": "code",
   "execution_count": 165,
   "id": "77125b51",
   "metadata": {},
   "outputs": [],
   "source": [
    "#percent each candidate recieved, create list to store values \n",
    "percentage_votes= []\n",
    "DeGette=(num_vote[0]/num_vote.sum()*100)\n",
    "Stockham=(num_vote[1]/num_vote.sum()*100)\n",
    "Doane=(num_vote[2]/num_vote.sum()*100)\n",
    "percentage_votes.append(\"%.3f%%\" %(DeGette))\n",
    "percentage_votes.append(\"%.3f%%\" %(Stockham))\n",
    "percentage_votes.append(\"%.3f%%\" %(Doane))"
   ]
  },
  {
   "cell_type": "code",
   "execution_count": 166,
   "id": "d020e9d0",
   "metadata": {},
   "outputs": [],
   "source": [
    "#append percentage of votes recieved in a new column and label \"Percentage Votes\"\n",
    "num_vote_dataframe[\"Percentage Votes\"]=percentage_votes\n",
    "\n",
    "#rename colum to \"Votes Received\"\n",
    "df_renamed=num_vote_dataframe.rename(columns={\"Candidate\":\"Votes Received\"})\n"
   ]
  },
  {
   "cell_type": "code",
   "execution_count": 170,
   "id": "99c3bbaf",
   "metadata": {},
   "outputs": [],
   "source": [
    "#take first row name and print as winner \n",
    "winner=df_renamed.head(1).index[0]\n"
   ]
  },
  {
   "cell_type": "code",
   "execution_count": 171,
   "id": "37f3e907",
   "metadata": {},
   "outputs": [],
   "source": [
    "#export results as txt file to pypoll.txt\n",
    "with open(\"PyPoll.txt\", \"a\") as f:\n",
    "    print (\"Election Results:\", file=f)\n",
    "    print (\"- - - - - - - - - - - - - - - - - - - - - - - -\", file=f)\n",
    "    print (\"Total Votes: \"+ str(total_votes), file=f)\n",
    "    print (\"- - - - - - - - - - - - - - - - - - - - - - - -\", file=f)\n",
    "    print ((df_renamed), file=f)\n",
    "    print (\"- - - - - - - - - - - - - - - - - - - - - - - -\", file=f)\n",
    "    print((\"Winner: \"+ winner), file=f)"
   ]
  }
 ],
 "metadata": {
  "kernelspec": {
   "display_name": "Python 3 (ipykernel)",
   "language": "python",
   "name": "python3"
  },
  "language_info": {
   "codemirror_mode": {
    "name": "ipython",
    "version": 3
   },
   "file_extension": ".py",
   "mimetype": "text/x-python",
   "name": "python",
   "nbconvert_exporter": "python",
   "pygments_lexer": "ipython3",
   "version": "3.10.9"
  }
 },
 "nbformat": 4,
 "nbformat_minor": 5
}
