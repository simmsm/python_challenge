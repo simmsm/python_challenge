{
 "cells": [
  {
   "cell_type": "code",
   "execution_count": 49,
   "id": "006ecb54",
   "metadata": {},
   "outputs": [],
   "source": [
    "import pandas as pd"
   ]
  },
  {
   "cell_type": "code",
   "execution_count": 51,
   "id": "a2d06267",
   "metadata": {},
   "outputs": [
    {
     "name": "stdout",
     "output_type": "stream",
     "text": [
      "     Date  Profit/Losses\n",
      "0  Jan-10        1088983\n",
      "1  Feb-10        -354534\n",
      "2  Mar-10         276622\n",
      "3  Apr-10        -728133\n",
      "4  May-10         852993\n",
      "Total Months 86\n"
     ]
    }
   ],
   "source": [
    "# import budget data csv, budget data is in same directory as py file to make importing .csv easy\n",
    "# convert to a DataFrame\n",
    "DataFile= pd.read_csv(\"budget_data.csv\")\n",
    "df=pd.DataFrame(DataFile)\n",
    "\n",
    "print (df.head(5))\n",
    "\n",
    "# find the number of months in the data set and store in variable \"months\"\n",
    "months= df.shape[0]\n",
    "\n",
    "print (\"Total Months\", months)"
   ]
  },
  {
   "cell_type": "code",
   "execution_count": 52,
   "id": "ee1e9579",
   "metadata": {},
   "outputs": [
    {
     "ename": "ValueError",
     "evalue": "invalid literal for int() with base 10: 'a'",
     "output_type": "error",
     "traceback": [
      "\u001b[0;31m---------------------------------------------------------------------------\u001b[0m",
      "\u001b[0;31mValueError\u001b[0m                                Traceback (most recent call last)",
      "Cell \u001b[0;32mIn[52], line 19\u001b[0m\n\u001b[1;32m     16\u001b[0m date\u001b[38;5;241m.\u001b[39mappend(row[\u001b[38;5;241m0\u001b[39m])\n\u001b[1;32m     18\u001b[0m \u001b[38;5;66;03m#add monthly profit to variable\u001b[39;00m\n\u001b[0;32m---> 19\u001b[0m monthly_profit\u001b[38;5;241m=\u001b[39m monthly_profit \u001b[38;5;241m+\u001b[39m (\u001b[38;5;28;43mint\u001b[39;49m\u001b[43m(\u001b[49m\u001b[43mrow\u001b[49m\u001b[43m[\u001b[49m\u001b[38;5;241;43m1\u001b[39;49m\u001b[43m]\u001b[49m\u001b[43m)\u001b[49m)\n\u001b[1;32m     21\u001b[0m \u001b[38;5;66;03m#end of month profit or loss of \u001b[39;00m\n\u001b[1;32m     22\u001b[0m final_profit\u001b[38;5;241m=\u001b[39m (\u001b[38;5;28mint\u001b[39m(row[\u001b[38;5;241m1\u001b[39m]))\n",
      "\u001b[0;31mValueError\u001b[0m: invalid literal for int() with base 10: 'a'"
     ]
    }
   ],
   "source": [
    "#find the net profit from the second column\n",
    "net_profit= df[[\"Profit/Losses\"]].sum()\n",
    "\n",
    "# empty lists to store\n",
    "date=[]\n",
    "monthly_change=[]\n",
    "\n",
    "# set variables to 0 \n",
    "monthly_profit=0\n",
    "overall_change=0\n",
    "\n",
    "\n",
    "#find the max proftit and max losses\n",
    "for row in df: \n",
    "    #store dates in list\n",
    "    date.append(row[0])\n",
    "    \n",
    "    #add monthly profit to variable\n",
    "    monthly_profit= monthly_profit + (int(row[1]))\n",
    "    \n",
    "    #end of month profit or loss of \n",
    "    final_profit= (int(row[1]))\n",
    "    \n",
    "    # monthly change is the final profit minus the previous month value, append to list \"monthly_changes\"\n",
    "    monthly_change= final_profit - monthly_profit\n",
    "    monthly_change.append(monthly_change)\n",
    "    \n",
    "   \n",
    "    average_change=(sum(monthly_change))/len(monthly_change)\n",
    "    average_change\n",
    "    \n",
    "    \n"
   ]
  },
  {
   "cell_type": "code",
   "execution_count": 34,
   "id": "35387d9c",
   "metadata": {},
   "outputs": [
    {
     "name": "stdout",
     "output_type": "stream",
     "text": [
      "Total 22564198\n",
      "1141840\n",
      "-1194133\n",
      "262374.3953488372\n"
     ]
    }
   ],
   "source": [
    "print (\"Total\", net_profit)\n",
    "print (max_profit)\n",
    "print (max_loss)\n",
    "print (average)"
   ]
  },
  {
   "cell_type": "code",
   "execution_count": null,
   "id": "99e2a241",
   "metadata": {},
   "outputs": [],
   "source": [
    "max_profit= df[\"Profit/Losses\"].max()\n",
    "    max_loss= df[\"Profit/Losses\"].min()\n",
    "    \n",
    "    average= df[\"Profit/Losses\"].mean()\n",
    "    \n",
    "    "
   ]
  }
 ],
 "metadata": {
  "kernelspec": {
   "display_name": "Python 3 (ipykernel)",
   "language": "python",
   "name": "python3"
  },
  "language_info": {
   "codemirror_mode": {
    "name": "ipython",
    "version": 3
   },
   "file_extension": ".py",
   "mimetype": "text/x-python",
   "name": "python",
   "nbconvert_exporter": "python",
   "pygments_lexer": "ipython3",
   "version": "3.10.9"
  }
 },
 "nbformat": 4,
 "nbformat_minor": 5
}
